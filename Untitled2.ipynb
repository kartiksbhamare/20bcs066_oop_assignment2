{
  "nbformat": 4,
  "nbformat_minor": 0,
  "metadata": {
    "colab": {
      "name": "Untitled2.ipynb",
      "provenance": [],
      "collapsed_sections": [],
      "authorship_tag": "ABX9TyMPXg/+GcVosV8KPxiPB1k4",
      "include_colab_link": true
    },
    "kernelspec": {
      "name": "python3",
      "display_name": "Python 3"
    },
    "language_info": {
      "name": "python"
    }
  },
  "cells": [
    {
      "cell_type": "markdown",
      "metadata": {
        "id": "view-in-github",
        "colab_type": "text"
      },
      "source": [
        "<a href=\"https://colab.research.google.com/github/kartiksbhamare/20bcs066_oop_assignment2/blob/main/Untitled2.ipynb\" target=\"_parent\"><img src=\"https://colab.research.google.com/assets/colab-badge.svg\" alt=\"Open In Colab\"/></a>"
      ]
    },
    {
      "cell_type": "code",
      "metadata": {
        "colab": {
          "base_uri": "https://localhost:8080/"
        },
        "id": "jXre-gGzpdlj",
        "outputId": "46b13445-c5bf-4135-a717-b2814f5f1826"
      },
      "source": [
        "class circle():\n",
        "  def __init__(self, r):\n",
        "    self.radius = r\n",
        "  \n",
        "  def area(self):\n",
        "    return self.radius**2*3.14\n",
        "  \n",
        "  def perimeter(self):\n",
        "    return self.radius*2*3.14\n",
        "\n",
        "A = circle(4)\n",
        "print(\"Area of circle is: \", A.area())\n",
        "print(\"Perimeter of circle is: \", A.perimeter())"
      ],
      "execution_count": 2,
      "outputs": [
        {
          "output_type": "stream",
          "name": "stdout",
          "text": [
            "Area of circle is:  50.24\n",
            "Perimeter of circle is:  25.12\n"
          ]
        }
      ]
    },
    {
      "cell_type": "code",
      "metadata": {
        "colab": {
          "base_uri": "https://localhost:8080/"
        },
        "id": "QuQ7HYD7p0tK",
        "outputId": "a841681e-4286-41c4-d461-9bac3ab3067c"
      },
      "source": [
        "class Faculty:\n",
        "\n",
        "    def setData(self):\n",
        "        self.name = input(\"Enter the name : \") \n",
        "        self.emp_ID = int(input(\"Enter  employee ID : \"))\n",
        "        self.branch = input(\"Enter branch : \")\n",
        "        self.salary = int(input(\"Enter  salary : \"))\n",
        "\n",
        "    def getData(self):\n",
        "      print(f\"Name: \", {self.name})\n",
        "      print(f\"Employee ID: \", {self.emp_ID})\n",
        "      print(f\"Branch: \", {self.branch})\n",
        "      print(f\"Salary: \", {self.salary})\n",
        "\n",
        "      return self.name, self.emp_ID, self.branch, self.salary\n",
        "\n",
        "list_Faculty = []\n",
        "for i in range(1, 6):\n",
        "    temp = Faculty()\n",
        "    print(f\"\\nEnter  data for employee {i}  : \")\n",
        "    temp.setData()\n",
        "    list_Faculty.append(temp)\n",
        "\n",
        "for i in range(0, 5):\n",
        "    print(f\"\\nData of employee {i+1}  : \")\n",
        "    list_Faculty[i].getData()"
      ],
      "execution_count": 5,
      "outputs": [
        {
          "output_type": "stream",
          "name": "stdout",
          "text": [
            "\n",
            "Enter  data for employee 1  : \n",
            "Enter the name : kartik\n",
            "Enter  employee ID : 1\n",
            "Enter branch : cse\n",
            "Enter  salary : 10000000\n",
            "\n",
            "Enter  data for employee 2  : \n",
            "Enter the name : anup\n",
            "Enter  employee ID : 123\n",
            "Enter branch : cse\n",
            "Enter  salary : 12345678\n",
            "\n",
            "Enter  data for employee 3  : \n",
            "Enter the name : rutuja\n",
            "Enter  employee ID : 33\n",
            "Enter branch : cse\n",
            "Enter  salary : 45678000\n",
            "\n",
            "Enter  data for employee 4  : \n",
            "Enter the name : aakash\n",
            "Enter  employee ID : 90000\n",
            "Enter branch : cse\n",
            "Enter  salary : 100000\n",
            "\n",
            "Enter  data for employee 5  : \n",
            "Enter the name : keshav\n",
            "Enter  employee ID : 456\n",
            "Enter branch : cse\n",
            "Enter  salary : 456789\n",
            "\n",
            "Data of employee 1  : \n",
            "Name:  {'kartik'}\n",
            "Employee ID:  {1}\n",
            "Branch:  {'cse'}\n",
            "Salary:  {10000000}\n",
            "\n",
            "Data of employee 2  : \n",
            "Name:  {'anup'}\n",
            "Employee ID:  {123}\n",
            "Branch:  {'cse'}\n",
            "Salary:  {12345678}\n",
            "\n",
            "Data of employee 3  : \n",
            "Name:  {'rutuja'}\n",
            "Employee ID:  {33}\n",
            "Branch:  {'cse'}\n",
            "Salary:  {45678000}\n",
            "\n",
            "Data of employee 4  : \n",
            "Name:  {'aakash'}\n",
            "Employee ID:  {90000}\n",
            "Branch:  {'cse'}\n",
            "Salary:  {100000}\n",
            "\n",
            "Data of employee 5  : \n",
            "Name:  {'keshav'}\n",
            "Employee ID:  {456}\n",
            "Branch:  {'cse'}\n",
            "Salary:  {456789}\n"
          ]
        }
      ]
    },
    {
      "cell_type": "code",
      "metadata": {
        "colab": {
          "base_uri": "https://localhost:8080/"
        },
        "id": "4uWGtZ_8qsGu",
        "outputId": "50db08d0-b272-423b-c1fb-1d2686ce1eac"
      },
      "source": [
        "class Account:\n",
        "    def __init__(self, accNo, accHolder, amount):\n",
        "        self.accountNumber = accNo\n",
        "        self.accountHolder = accHolder\n",
        "        self.accountAmount = amount\n",
        "\n",
        "    def deposit(self):\n",
        "        depAmount = int(input(\"Enter the amount to deposit : \"))\n",
        "        self.accountAmount += depAmount\n",
        "        print(f\"Amount deposited : {depAmount}\")\n",
        "        print(f\"New Balance : {self.accountAmount}\")\n",
        "\n",
        "    def withdraw(self):\n",
        "        withAmount = int(input(\"Enter the amount to withdraw : \"))\n",
        "        if withAmount > self.accountAmount:\n",
        "            print(\"Your Account don't have sufficient ammount !!\")\n",
        "            return -1\n",
        "        self.accountAmount -= withAmount\n",
        "        print(f\"Amount withdraw : {withAmount}\")\n",
        "        print(f\"New Balance : {self.accountAmount}\")\n",
        "        return withAmount\n",
        "\n",
        "    def checkBalance(self):\n",
        "        print(f\"Balance : {self.accountAmount}\")\n",
        "        return self.accountAmount\n",
        "\n",
        "    def getDetails(self):\n",
        "        print(f\"Account Number : {self.accountNumber}\")\n",
        "        print(f\"Account Holder : {self.accountHolder}\") \n",
        "        print(f\"Balance : {self.accountAmount}\")\n",
        "        return self.accountNumber, self.accountHolder, self.accountAmount\n",
        "\n",
        "N = Account(711, \"kartik\", 30000)\n",
        "N.deposit()\n",
        "withdraw = N.withdraw()\n",
        "balance = N.checkBalance()\n",
        "details = N.getDetails()"
      ],
      "execution_count": 7,
      "outputs": [
        {
          "output_type": "stream",
          "name": "stdout",
          "text": [
            "Enter the amount to deposit : 100\n",
            "Amount deposited : 100\n",
            "New Balance : 30100\n",
            "Enter the amount to withdraw : 50\n",
            "Amount withdraw : 50\n",
            "New Balance : 30050\n",
            "Balance : 30050\n",
            "Account Number : 711\n",
            "Account Holder : kartik\n",
            "Balance : 30050\n"
          ]
        }
      ]
    },
    {
      "cell_type": "code",
      "metadata": {
        "colab": {
          "base_uri": "https://localhost:8080/"
        },
        "id": "pLIACTVcq_cM",
        "outputId": "3e888343-31ae-48d3-ac97-881df0e9b166"
      },
      "source": [
        "class Records:\n",
        "\n",
        "    def setData(self):\n",
        "        self.name = input(\"name of the student : \")\n",
        "        self.ID = int(input(\"USN of the student : \"))\n",
        "        self.marks = []\n",
        "        for i in range(1, 4):\n",
        "            marks = input(f\"Enter the marks for subject {i} : \")\n",
        "            self.marks.append(marks)\n",
        "\n",
        "    def getData(self):\n",
        "        print(f\"Name : {self.name}\")\n",
        "        print(f\"USN : {self.ID}\") \n",
        "        print(f\"Marks : \\nSubject 1 : {self.marks[0]} \\nSubject 2 : {self.marks[1]} \\nSubject 3 : {self.marks[2]}\")\n",
        "        return self.name, self.ID, self.marks\n",
        "\n",
        "s1 = Records()\n",
        "s1.setData()\n",
        "list_1 = s1.getData()\n",
        "print(list_1)"
      ],
      "execution_count": 8,
      "outputs": [
        {
          "output_type": "stream",
          "name": "stdout",
          "text": [
            "name of the student : kartik\n",
            "USN of the student : 123\n",
            "Enter the marks for subject 1 : 100\n",
            "Enter the marks for subject 2 : 90\n",
            "Enter the marks for subject 3 : 79\n",
            "Name : kartik\n",
            "USN : 123\n",
            "Marks : \n",
            "Subject 1 : 100 \n",
            "Subject 2 : 90 \n",
            "Subject 3 : 79\n",
            "('kartik', 123, ['100', '90', '79'])\n"
          ]
        }
      ]
    },
    {
      "cell_type": "code",
      "metadata": {
        "colab": {
          "base_uri": "https://localhost:8080/"
        },
        "id": "iJPclM3RrPHD",
        "outputId": "318e10ae-cf3b-4785-9452-2ba63cecc34d"
      },
      "source": [
        "class Patient:\n",
        "    def setData(self):\n",
        "        self.name = input(\"Enter the name of the patient : \")\n",
        "        self.dateOfAdmission = input(\"Enter the date of admission : \")\n",
        "        self.symptoms = input(\"Enter all the symptoms with a space in between : \").split(\" \")\n",
        "        self.oxygenLevel = int(input(\"Enter the oxygen level of the patient : \"))\n",
        "        self.dateOfDischarge = input(\"Enter the date of discharge : \")\n",
        "\n",
        "    def getData(self):\n",
        "        print(f\"\\nName : {self.name} \\nDate of Admission : {self.dateOfAdmission} \\nSymptoms : {self.symptoms} \\nOxygen Level : {self.oxygenLevel} \\nDate of Discharge : {self.dateOfDischarge}\\n\")\n",
        "        return self.name, self.dateOfAdmission, self.symptoms, self.oxygenLevel, self.dateOfDischarge\n",
        "\n",
        "    def checkSeverity(self):\n",
        "        if self.oxygenLevel < 90:\n",
        "            print(\"Patient's condition is severe.\")\n",
        "        else:\n",
        "            print(\"Patient is fine.\")\n",
        "\n",
        "\n",
        "class Hospital:    \n",
        "    def __init__(self):\n",
        "        self.listOfPatients = []\n",
        "        self.oxygenSupport = []\n",
        "\n",
        "    def addPatient(self):\n",
        "        temp = Patient()\n",
        "        temp.setData()\n",
        "        if temp.oxygenLevel < 90:\n",
        "            self.oxygenSupport.append(1)\n",
        "        else:\n",
        "            self.oxygenSupport.append(0)\n",
        "        self.listOfPatients.append(temp)\n",
        "\n",
        "    def checkSeverity(self):\n",
        "        name = input(\"Enter the name of the patient : \")\n",
        "        for i in range(0, len(self.listOfPatients)):\n",
        "            if name == self.listOfPatients[i].name:\n",
        "              self.listOfPatients[i].checkSeverity()\n",
        "              return 1\n",
        "        print(\"Patient not found\")\n",
        "\n",
        "\n",
        "    def getOxygenSupport(self):\n",
        "        return self.oxygenSupport.count(1)\n",
        "    def generalWard(self):\n",
        "        return self.oxygenSupport.count(0)\n",
        "\n",
        "    def totalPatients(self):\n",
        "        return len(self.listOfPatients)\n",
        "\n",
        "\n",
        "H1 = Hospital()\n",
        "\n",
        "for i in range(0, 2):\n",
        "    H1.addPatient()\n",
        "    H1.listOfPatients[i].getData()\n",
        "    H1.listOfPatients[i].checkSeverity()\n",
        "\n",
        "print(H1.getOxygenSupport())\n",
        "print(H1.generalWard())\n",
        "print(H1.totalPatients())\n",
        "H1.checkSeverity()"
      ],
      "execution_count": 11,
      "outputs": [
        {
          "output_type": "stream",
          "name": "stdout",
          "text": [
            "Enter the name of the patient : kartik\n",
            "Enter the date of admission : 12 sept\n",
            "Enter all the symptoms with a space in between : fever thyroid cold\n",
            "Enter the oxygen level of the patient : 98\n",
            "Enter the date of discharge : 30 sept\n",
            "\n",
            "Name : kartik \n",
            "Date of Admission : 12 sept \n",
            "Symptoms : ['fever', 'thyroid', 'cold'] \n",
            "Oxygen Level : 98 \n",
            "Date of Discharge : 30 sept\n",
            "\n",
            "Patient is fine.\n",
            "Enter the name of the patient : anup\n",
            "Enter the date of admission : 1 june\n",
            "Enter all the symptoms with a space in between : fever\n",
            "Enter the oxygen level of the patient : 97\n",
            "Enter the date of discharge : 5 june\n",
            "\n",
            "Name : anup \n",
            "Date of Admission : 1 june \n",
            "Symptoms : ['fever'] \n",
            "Oxygen Level : 97 \n",
            "Date of Discharge : 5 june\n",
            "\n",
            "Patient is fine.\n",
            "0\n",
            "2\n",
            "2\n",
            "Enter the name of the patient : kalpesh\n",
            "Patient not found\n"
          ]
        }
      ]
    },
    {
      "cell_type": "code",
      "metadata": {
        "colab": {
          "base_uri": "https://localhost:8080/"
        },
        "id": "v0p5lqUFsGjD",
        "outputId": "060d25c9-7d29-4984-ad36-38852d20c488"
      },
      "source": [
        "class Time:\n",
        "    def Default(self):\n",
        "        self.hours = 0\n",
        "        self.minutes = 0\n",
        "        self.seconds = 0\n",
        "\n",
        "    def Value(self, hours, minutes, seconds):\n",
        "        if seconds > 59:\n",
        "            tempMinutes = seconds // 60\n",
        "            seconds = seconds % 60\n",
        "            self.seconds = seconds\n",
        "            self.minutes = tempMinutes + minutes\n",
        "        else:\n",
        "            self.seconds = seconds\n",
        "            self.minutes = minutes\n",
        "\n",
        "        if self.minutes > 59:\n",
        "            tempHours = self.minutes // 60\n",
        "            self.minutes = self.minutes % 60\n",
        "            self.hours = tempHours + hours\n",
        "        else:\n",
        "            self.minutes = minutes\n",
        "            self.hours = hours\n",
        "\n",
        "    def display(self):\n",
        "        print(f\"Time : {self.hours}::{self.minutes}::{self.seconds}\")\n",
        "\n",
        "T1 = Time()\n",
        "T1.Default()\n",
        "T1.display()\n",
        "T1.Value(20, 59, 59)\n",
        "T1.display()\n",
        "T1.Value(20, 140, 250)\n",
        "T1.display()\n",
        "T1.Value(20, 140, 50)\n",
        "T1.display()"
      ],
      "execution_count": 12,
      "outputs": [
        {
          "output_type": "stream",
          "name": "stdout",
          "text": [
            "Time : 0::0::0\n",
            "Time : 20::59::59\n",
            "Time : 22::24::10\n",
            "Time : 22::20::50\n"
          ]
        }
      ]
    },
    {
      "cell_type": "code",
      "metadata": {
        "colab": {
          "base_uri": "https://localhost:8080/"
        },
        "id": "IUcfeRCvsRJs",
        "outputId": "637570fd-07c5-4de6-eef7-50d61c731fed"
      },
      "source": [
        "class Student:\n",
        "    def __init__(self, name, age, rollNo):\n",
        "        self.name = name\n",
        "        self.age = age\n",
        "        self.rollNo = rollNo\n",
        "\n",
        "    @classmethod\n",
        "    def compare(cls, s1, s2):\n",
        "        if s1.age == s2.age:\n",
        "            print(\"Age of the students are equal.\")\n",
        "        else:\n",
        "            print(\"Age of the students are not equal.\")\n",
        "\n",
        "S1 = Student(\"kartik\", 19, 55)\n",
        "S2 = Student(\"anup\", 20, 56)\n",
        "\n",
        "Student.compare(S1, S2)"
      ],
      "execution_count": 13,
      "outputs": [
        {
          "output_type": "stream",
          "name": "stdout",
          "text": [
            "Age of the students are not equal.\n"
          ]
        }
      ]
    },
    {
      "cell_type": "code",
      "metadata": {
        "colab": {
          "base_uri": "https://localhost:8080/"
        },
        "id": "m8qpDwT8skI9",
        "outputId": "6bbcfc63-5436-471a-ee18-c02fcd930753"
      },
      "source": [
        "class Student:\n",
        "    sem = 3\n",
        "    institute = \"IIIT DWD\"\n",
        "    \n",
        "    def setData(self):\n",
        "        self.name = input(\"Enter the name of the student : \")\n",
        "        self.id = int(input(\"Enter the USN of student : \"))\n",
        "\n",
        "    def getInstanceData(self):\n",
        "        print(f\"Name : {self.name}\")\n",
        "        print(f\"USN = {self.id}\")\n",
        "\n",
        "    @classmethod\n",
        "    def getClassData(cls):\n",
        "        print(f\"Semester : {cls.sem}\")\n",
        "        print(f\"Institute : {cls.institute}\")\n",
        "\n",
        "    @staticmethod\n",
        "    def getExplanation():\n",
        "        print(\"Class variables (sem, institute) are printed using ClassMethod and Instance variables (name, id) are printed using Instance Method\")\n",
        "\n",
        "\n",
        "s1 = Student()\n",
        "s1.setData()\n",
        "s1.getInstanceData()\n",
        "Student.getClassData()\n",
        "Student.getExplanation()"
      ],
      "execution_count": 14,
      "outputs": [
        {
          "output_type": "stream",
          "name": "stdout",
          "text": [
            "Enter the name of the student : kartik\n",
            "Enter the USN of student : 123\n",
            "Name : kartik\n",
            "USN = 123\n",
            "Semester : 3\n",
            "Institute : IIIT DWD\n",
            "Class variables (sem, institute) are printed using ClassMethod and Instance variables (name, id) are printed using Instance Method\n"
          ]
        }
      ]
    },
    {
      "cell_type": "code",
      "metadata": {
        "colab": {
          "base_uri": "https://localhost:8080/"
        },
        "id": "7pXAaDsnsyPc",
        "outputId": "3aa693f7-c525-46a6-90c6-be94dc42155f"
      },
      "source": [
        "class Student:\n",
        "    def setData(self):\n",
        "        self.Name = input(\"Enter the name : \")\n",
        "        self.ID = int(input(\"Enter the Roll Number : \"))\n",
        "        self.sem = int(input(\"Enter the semester number : \"))\n",
        "        self.nLaptop = int(input(\"Enter the number of laptops : \"))\n",
        "        self.listLaptop = []\n",
        "        for i in range (0, self.nLaptop):\n",
        "            tempObj = self.Laptop()\n",
        "            self.listLaptop.append(tempObj)\n",
        "\n",
        "    class Laptop:\n",
        "        def __init__(self):\n",
        "            self.cpu = input(\"Enter the name of the CPU : \")\n",
        "            self.ram = input(\"Enter the RAM of the Laptop : \")\n",
        "            self.hardDisk = input(\"Enter the size of hard disk : \")\n",
        "            self.display = input(\"Enter the display resolution : \")\n",
        "        \n",
        "        def getData(self):\n",
        "            print(f\"CPU : {self.cpu}\") \n",
        "            print(f\"RAM : {self.ram}\")\n",
        "            print(f\"Hard Disk : {self.hardDisk}\")\n",
        "            print(f\"Display Resolution : {self.display}\")\n",
        "\n",
        "    def getData(self):\n",
        "        print(f\"Name : {self.Name}\") \n",
        "        print(f\"USN : {self.ID}\")\n",
        "        print(f\"Semester : {self.sem}\")\n",
        "        print(f\"Number of Laptops : {self.nLaptop}\")\n",
        "        for i in range(0, self.nLaptop):\n",
        "            print(f\"Details of laptop {i+1}  : \")\n",
        "            self.listLaptop[i].getData()\n",
        "\n",
        "S1 = Student()\n",
        "S1.setData()\n",
        "S1.getData()"
      ],
      "execution_count": 15,
      "outputs": [
        {
          "output_type": "stream",
          "name": "stdout",
          "text": [
            "Enter the name : kartik\n",
            "Enter the Roll Number : 123\n",
            "Enter the semester number : 3\n",
            "Enter the number of laptops : 2\n",
            "Enter the name of the CPU : 2\n",
            "Enter the RAM of the Laptop : 4\n",
            "Enter the size of hard disk : 1\n",
            "Enter the display resolution : 144\n",
            "Enter the name of the CPU : 1\n",
            "Enter the RAM of the Laptop : 4\n",
            "Enter the size of hard disk : 1\n",
            "Enter the display resolution : 144\n",
            "Name : kartik\n",
            "USN : 123\n",
            "Semester : 3\n",
            "Number of Laptops : 2\n",
            "Details of laptop 1  : \n",
            "CPU : 2\n",
            "RAM : 4\n",
            "Hard Disk : 1\n",
            "Display Resolution : 144\n",
            "Details of laptop 2  : \n",
            "CPU : 1\n",
            "RAM : 4\n",
            "Hard Disk : 1\n",
            "Display Resolution : 144\n"
          ]
        }
      ]
    }
  ]
}